{
 "cells": [
  {
   "cell_type": "code",
   "execution_count": 1,
   "metadata": {},
   "outputs": [],
   "source": [
    "import numpy as np\n",
    "import pandas as pd \n",
    "import os \n",
    "from sklearn.model_selection import GridSearchCV\n",
    "from sklearn.model_selection import train_test_split\n",
    "from sklearn.model_selection import StratifiedKFold\n",
    "from sklearn.model_selection import cross_val_score\n",
    "from sklearn.pipeline import Pipeline\n",
    "from sklearn.preprocessing import StandardScaler\n",
    "from sklearn.linear_model import LogisticRegression\n",
    "from sklearn.svm import SVC\n",
    "from sklearn.metrics import accuracy_score\n",
    "from sklearn.model_selection import validation_curve\n",
    "from sklearn.linear_model import Lasso"
   ]
  },
  {
   "cell_type": "code",
   "execution_count": 2,
   "metadata": {},
   "outputs": [
    {
     "name": "stdout",
     "output_type": "stream",
     "text": [
      "Current working directory: /Users/hesurina/Desktop\n",
      "Current working directory: /Users/hesurina/Desktop\n"
     ]
    }
   ],
   "source": [
    "# Set the max number of columns to be displayed in head\n",
    "pd.set_option('display.max_columns', None)\n",
    "\n",
    "# or specify the number of columns\n",
    "# pd.options.display.max_columns = 5\n",
    "\n",
    "# Get the current working directory\n",
    "cwd = os.getcwd()\n",
    "\n",
    "# Print the current working directory\n",
    "print(\"Current working directory: {0}\".format(cwd))\n",
    "\n",
    "# Get the current working directory\n",
    "cwd = os.getcwd()\n",
    "\n",
    "# Print the current working directory\n",
    "print(\"Current working directory: {0}\".format(cwd))\n",
    "#%%"
   ]
  },
  {
   "cell_type": "code",
   "execution_count": 3,
   "metadata": {
    "tags": []
   },
   "outputs": [
    {
     "name": "stdout",
     "output_type": "stream",
     "text": [
      "       X4PSENRSTLV  X3TGPATOT   X1SES  S1FRNDCLG\n",
      "1                2        3.5  1.5644          1\n",
      "2                0        4.0 -0.3699          2\n",
      "3                2        3.0  1.2741          1\n",
      "5                0        2.5 -0.4300          1\n",
      "6                2        3.5  1.5144          1\n",
      "...            ...        ...     ...        ...\n",
      "10183            2        4.0  1.2556          1\n",
      "10184            2        4.0  1.0526          1\n",
      "10185            2        4.0  1.2033          1\n",
      "10187            1        2.5 -0.0649          1\n",
      "10188            1        2.0  0.8512          1\n",
      "\n",
      "[8367 rows x 4 columns]\n"
     ]
    }
   ],
   "source": [
    "# Read the data in\n",
    "hsls = pd.read_csv('hsls_final3.csv',\n",
    "                   low_memory=False,\n",
    "                   encoding='utf-8',\n",
    "                   index_col=0)\n",
    "\n",
    "print(hsls)"
   ]
  },
  {
   "cell_type": "code",
   "execution_count": 4,
   "metadata": {},
   "outputs": [
    {
     "name": "stdout",
     "output_type": "stream",
     "text": [
      "1        2\n",
      "2        0\n",
      "3        2\n",
      "5        0\n",
      "6        2\n",
      "        ..\n",
      "10183    2\n",
      "10184    2\n",
      "10185    2\n",
      "10187    1\n",
      "10188    1\n",
      "Name: X4PSENRSTLV, Length: 8367, dtype: int64\n"
     ]
    }
   ],
   "source": [
    "y = hsls.loc[:,\"X4PSENRSTLV\"]\n",
    "print(y)"
   ]
  },
  {
   "cell_type": "code",
   "execution_count": 5,
   "metadata": {},
   "outputs": [],
   "source": [
    "# Splitting the dataset\n",
    "X = hsls.loc[:,hsls.columns !='X4PSENRSTLV']\n",
    "y = hsls.loc[:,\"X4PSENRSTLV\"]\n",
    "X_train, X_test, y_train, y_test = train_test_split(X, y,\n",
    "                                                    test_size=0.2,\n",
    "                                                    random_state=1,\n",
    "                                                    stratify=y)"
   ]
  },
  {
   "cell_type": "code",
   "execution_count": 6,
   "metadata": {},
   "outputs": [],
   "source": [
    "# Initializing Classifiers\n",
    "clf1 = LogisticRegression(multi_class='multinomial',\n",
    "                          solver='newton-cg',\n",
    "                          random_state=1)\n",
    "clf2 = SVC(random_state=1)\n",
    "\n",
    "# Building the pipelines\n",
    "pipe1 = Pipeline([('std', StandardScaler()),\n",
    "                  ('clf1', clf1)])\n",
    "pipe2 = Pipeline([('std', StandardScaler()),\n",
    "                  ('clf2', clf2)])"
   ]
  },
  {
   "cell_type": "code",
   "execution_count": 7,
   "metadata": {},
   "outputs": [],
   "source": [
    "# Setting up the parameter grids\n",
    "param_grid1 = [{'clf1__penalty': ['l2'],\n",
    "                'clf1__C': np.power(10., np.arange(-4, 4))}]\n",
    "param_grid2 = [{'clf2__kernel': ['rbf'],\n",
    "                'clf2__C': np.power(10., np.arange(-4, 4)),\n",
    "                'clf2__gamma': np.power(10., np.arange(-5, 0))},\n",
    "               {'clf2__kernel': ['linear'],\n",
    "                'clf2__C': np.power(10., np.arange(-4, 4))}]"
   ]
  },
  {
   "cell_type": "code",
   "execution_count": 8,
   "metadata": {},
   "outputs": [
    {
     "name": "stdout",
     "output_type": "stream",
     "text": [
      "{'clf1__C': 1.0, 'clf1__penalty': 'l2'}\n",
      "0.6850426048040225\n",
      "{'clf2__C': 1000.0, 'clf2__gamma': 0.1, 'clf2__kernel': 'rbf'}\n",
      "0.6845936161448374\n"
     ]
    }
   ],
   "source": [
    "# Setting up inner loop\n",
    "# Setting up multiple GridSearchCV objects, 1 for each algorithm\n",
    "gridcvs = {}\n",
    "inner_cv = StratifiedKFold(n_splits=5, shuffle=True, random_state=1) \n",
    "\n",
    "for pgrid, est, name in zip((param_grid1, param_grid2),\n",
    "                            (pipe1, pipe2),\n",
    "                            ('Logistic_regression','SVM')):\n",
    "    gcv = GridSearchCV(estimator=est,\n",
    "                       param_grid=pgrid,\n",
    "                       scoring='accuracy',\n",
    "                       n_jobs=-1,\n",
    "                       cv=inner_cv,\n",
    "                       verbose=0,\n",
    "                       refit=True)\n",
    "    gridcvs[name] = gcv\n",
    "    gcv.fit(X_train, y_train)\n",
    "    best_parameters = gcv.best_params_\n",
    "    print(best_parameters)\n",
    "    best_result = gcv.best_score_\n",
    "    print(best_result)\n",
    "    # plot = validation_curve(est, X, y, param_name=\"alpha\", param_range=np.logspace(-7, 3, 3),cv=5)"
   ]
  },
  {
   "cell_type": "code",
   "execution_count": 9,
   "metadata": {},
   "outputs": [
    {
     "name": "stdout",
     "output_type": "stream",
     "text": [
      "Accuracy 68.46% (average over k-fold CV test folds)\n",
      "Best Parameters: {'clf2__C': 1000.0, 'clf2__gamma': 0.1, 'clf2__kernel': 'rbf'}\n",
      "Training Accuracy: 68.71%\n",
      "Test Accuracy: 67.92%\n"
     ]
    }
   ],
   "source": [
    "## We can skip the next step because we set refit=True\n",
    "## so scikit-learn has already fit the model to the\n",
    "## whole training set\n",
    "\n",
    "# best_model.fit(X_train, y_train)\n",
    "train_acc = accuracy_score(y_true=y_train, y_pred=gcv.predict(X_train))\n",
    "test_acc = accuracy_score(y_true=y_test, y_pred=gcv.predict(X_test))\n",
    "\n",
    "print('Accuracy %.2f%% (average over k-fold CV test folds)' %\n",
    "      (100 * gcv.best_score_))\n",
    "print('Best Parameters: %s' % gcv.best_params_)\n",
    "\n",
    "print('Training Accuracy: %.2f%%' % (100 * train_acc))\n",
    "print('Test Accuracy: %.2f%%' % (100 * test_acc))"
   ]
  },
  {
   "cell_type": "code",
   "execution_count": null,
   "metadata": {},
   "outputs": [],
   "source": []
  }
 ],
 "metadata": {
  "kernelspec": {
   "display_name": "Python 3 (ipykernel)",
   "language": "python",
   "name": "python3"
  },
  "language_info": {
   "codemirror_mode": {
    "name": "ipython",
    "version": 3
   },
   "file_extension": ".py",
   "mimetype": "text/x-python",
   "name": "python",
   "nbconvert_exporter": "python",
   "pygments_lexer": "ipython3",
   "version": "3.10.4"
  }
 },
 "nbformat": 4,
 "nbformat_minor": 4
}
